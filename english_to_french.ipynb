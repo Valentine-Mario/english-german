{
  "nbformat": 4,
  "nbformat_minor": 0,
  "metadata": {
    "colab": {
      "name": "english_to_french",
      "provenance": [],
      "collapsed_sections": [],
      "machine_shape": "hm"
    },
    "kernelspec": {
      "name": "python3",
      "display_name": "Python 3"
    },
    "accelerator": "GPU"
  },
  "cells": [
    {
      "cell_type": "code",
      "metadata": {
        "id": "3J5BjbtyLvDY",
        "colab_type": "code",
        "colab": {}
      },
      "source": [
        "import string\n",
        "import re\n",
        "from numpy import array, argmax, random, take\n",
        "import pandas as pd\n",
        "from keras.models import Sequential\n",
        "from keras.layers import Dense, LSTM, Embedding, RepeatVector\n",
        "from keras.preprocessing.text import Tokenizer\n",
        "from keras.callbacks import ModelCheckpoint\n",
        "from keras.preprocessing.sequence import pad_sequences\n",
        "from keras.models import load_model\n",
        "from keras import optimizers\n",
        "import matplotlib.pyplot as plt\n",
        "from sklearn.model_selection import train_test_split\n",
        "%matplotlib inline\n",
        "pd.set_option('display.max_colwidth', 200)"
      ],
      "execution_count": 0,
      "outputs": []
    },
    {
      "cell_type": "code",
      "metadata": {
        "id": "EyLQJnsAMnWC",
        "colab_type": "code",
        "colab": {}
      },
      "source": [
        "# function to read raw text file\n",
        "def read_text(filename):\n",
        "        # open the file\n",
        "        file = open(filename, mode='rt', encoding='utf-8')\n",
        "        # read all text\n",
        "        text = file.read()\n",
        "        file.close()\n",
        "        return text\n",
        "\n",
        "# split a text into sentences\n",
        "def to_lines(text):\n",
        "      sents = text.strip().split('\\n')\n",
        "      return sents"
      ],
      "execution_count": 0,
      "outputs": []
    },
    {
      "cell_type": "code",
      "metadata": {
        "id": "yWpx_F9PODJ9",
        "colab_type": "code",
        "colab": {}
      },
      "source": [
        "#read eng data\n",
        "eng_data = read_text(\"eng.txt\")\n",
        "eng = to_lines(eng_data)\n",
        "eng = array(eng)\n",
        "eng = eng[:7000]\n",
        "\n",
        "#read french data\n",
        "frn_data = read_text(\"frn.txt\")\n",
        "frn = to_lines(frn_data)\n",
        "frn = array(frn)\n",
        "frn = frn[:7000]"
      ],
      "execution_count": 0,
      "outputs": []
    },
    {
      "cell_type": "code",
      "metadata": {
        "id": "AzHEyNW_QKtT",
        "colab_type": "code",
        "colab": {}
      },
      "source": [
        "#remove punctuation\n",
        "eng[:] = [s.translate(str.maketrans('', '', string.punctuation)) for s in eng[:]]\n",
        "frn[:] = [s.translate(str.maketrans('', '', string.punctuation)) for s in frn[:]]\n"
      ],
      "execution_count": 0,
      "outputs": []
    },
    {
      "cell_type": "code",
      "metadata": {
        "id": "28_8OojjSd_j",
        "colab_type": "code",
        "colab": {}
      },
      "source": [
        "# convert text to lowercase\n",
        "for i in range(len(eng)):\n",
        "    eng[i] = eng[i].lower()\n",
        "    frn[i] = frn[i].lower()"
      ],
      "execution_count": 0,
      "outputs": []
    },
    {
      "cell_type": "code",
      "metadata": {
        "id": "vCq61s1iT9J6",
        "colab_type": "code",
        "colab": {
          "base_uri": "https://localhost:8080/",
          "height": 281
        },
        "outputId": "7e595c00-40fe-4626-9f89-ce0881750c95"
      },
      "source": [
        "# empty lists\n",
        "eng_l = []\n",
        "frn_l = []\n",
        "\n",
        "# populate the lists with sentence lengths\n",
        "for i in eng:\n",
        "      eng_l.append(len(i.split()))\n",
        "\n",
        "for i in frn:\n",
        "      frn_l.append(len(i.split()))\n",
        "\n",
        "length_df = pd.DataFrame({'eng':eng_l, 'frn':frn_l})\n",
        "\n",
        "length_df.hist(bins = 30)\n",
        "plt.show()"
      ],
      "execution_count": 10,
      "outputs": [
        {
          "output_type": "display_data",
          "data": {
            "image/png": "[encoded data removed]",
            "text/plain": [
              "<Figure size 432x288 with 2 Axes>"
            ]
          },
          "metadata": {
            "tags": [],
            "needs_background": "light"
          }
        }
      ]
    },
    {
      "cell_type": "code",
      "metadata": {
        "id": "XFxxZmDUVN1p",
        "colab_type": "code",
        "colab": {}
      },
      "source": [
        "# function to build a tokenizer\n",
        "def tokenization(lines):\n",
        "      tokenizer = Tokenizer()\n",
        "      tokenizer.fit_on_texts(lines)\n",
        "      return tokenizer"
      ],
      "execution_count": 0,
      "outputs": []
    },
    {
      "cell_type": "code",
      "metadata": {
        "id": "JzjT9AJlV4ts",
        "colab_type": "code",
        "colab": {}
      },
      "source": [
        "# max sentence length\n",
        "def max_length(lines):\n",
        "\treturn max(len(line.split()) for line in lines)"
      ],
      "execution_count": 0,
      "outputs": []
    },
    {
      "cell_type": "code",
      "metadata": {
        "id": "iIfaE0GJVUft",
        "colab_type": "code",
        "colab": {
          "base_uri": "https://localhost:8080/",
          "height": 89
        },
        "outputId": "9cb1a1eb-da69-4e04-9dfc-e2f2ed692c48"
      },
      "source": [
        "# prepare english tokenizer\n",
        "eng_tokenizer = tokenization(eng[:])\n",
        "eng_vocab_size = len(eng_tokenizer.word_index) + 1\n",
        "eng_length = 70 #max_length(eng[:])\n",
        "print('English Vocabulary Size: %d' % eng_vocab_size)\n",
        "print(\"English max length: %d\" % eng_length)\n",
        "\n",
        "# prepare french tokenizer\n",
        "frn_tokenizer = tokenization(frn[:])\n",
        "frn_vocab_size = len(frn_tokenizer.word_index) + 1\n",
        "frn_length = 70# max_length(frn[:])\n",
        "print('French Vocabulary Size: %d' % frn_vocab_size)\n",
        "print(\"French max length: %d\" %frn_length)"
      ],
      "execution_count": 32,
      "outputs": [
        {
          "output_type": "stream",
          "text": [
            "English Vocabulary Size: 9195\n",
            "English max length: 70\n",
            "French Vocabulary Size: 13126\n",
            "French max length: 70\n"
          ],
          "name": "stdout"
        }
      ]
    },
    {
      "cell_type": "code",
      "metadata": {
        "id": "h0KzfkfJW2k6",
        "colab_type": "code",
        "colab": {}
      },
      "source": [
        "# encode and pad sequences\n",
        "def encode_sequences(tokenizer, length, lines):\n",
        "         # integer encode sequences\n",
        "         seq = tokenizer.texts_to_sequences(lines)\n",
        "         # pad sequences with 0 values\n",
        "         seq = pad_sequences(seq, maxlen=length, padding='post')\n",
        "         return seq"
      ],
      "execution_count": 0,
      "outputs": []
    },
    {
      "cell_type": "code",
      "metadata": {
        "id": "BiHUMjq3W_YW",
        "colab_type": "code",
        "colab": {}
      },
      "source": [
        "# split data into train and test set\n",
        "train_eng, test_eng = train_test_split(eng, test_size=0.3, random_state = 12)\n",
        "train_frn, test_frn = train_test_split(frn, test_size=0.3, random_state = 12)"
      ],
      "execution_count": 0,
      "outputs": []
    },
    {
      "cell_type": "code",
      "metadata": {
        "id": "1-bUkXE5Xt-e",
        "colab_type": "code",
        "colab": {}
      },
      "source": [
        "# prepare training data\n",
        "trainX = encode_sequences(eng_tokenizer, eng_length, train_eng)\n",
        "trainY = encode_sequences(frn_tokenizer, frn_length, train_frn)\n",
        "\n",
        "# prepare validation data\n",
        "testX = encode_sequences(eng_tokenizer, eng_length, train_eng)\n",
        "testY = encode_sequences(frn_tokenizer, frn_length, train_frn)"
      ],
      "execution_count": 0,
      "outputs": []
    },
    {
      "cell_type": "code",
      "metadata": {
        "id": "WGLa_NGIYYub",
        "colab_type": "code",
        "colab": {}
      },
      "source": [
        "# build NMT model\n",
        "def define_model(in_vocab,out_vocab, in_timesteps,out_timesteps,units):\n",
        "      model = Sequential()\n",
        "      model.add(Embedding(in_vocab, units, input_length=in_timesteps, mask_zero=True))\n",
        "      model.add(LSTM(units))\n",
        "      model.add(RepeatVector(out_timesteps))\n",
        "      model.add(LSTM(units, return_sequences=True))\n",
        "      model.add(Dense(out_vocab, activation='softmax'))\n",
        "      return model"
      ],
      "execution_count": 0,
      "outputs": []
    },
    {
      "cell_type": "code",
      "metadata": {
        "id": "1lUlM1o2ZJI_",
        "colab_type": "code",
        "colab": {}
      },
      "source": [
        "# model compilation\n",
        "model = define_model(eng_vocab_size, frn_vocab_size, eng_length, frn_length, 512)"
      ],
      "execution_count": 0,
      "outputs": []
    },
    {
      "cell_type": "code",
      "metadata": {
        "id": "BmCDi0FVZjx0",
        "colab_type": "code",
        "colab": {}
      },
      "source": [
        "rms = optimizers.RMSprop(lr=0.001)\n",
        "model.compile(optimizer=rms, loss='sparse_categorical_crossentropy')"
      ],
      "execution_count": 0,
      "outputs": []
    },
    {
      "cell_type": "code",
      "metadata": {
        "id": "EVYyjXH6Z1E7",
        "colab_type": "code",
        "colab": {
          "base_uri": "https://localhost:8080/",
          "height": 1000
        },
        "outputId": "3513bb4d-1e1e-4e01-cd72-a9613e7f0e4d"
      },
      "source": [
        "filename = 'model1.h5'\n",
        "checkpoint = ModelCheckpoint(filename, monitor='val_loss', verbose=1, save_best_only=True, mode='min')\n",
        "\n",
        "# train model\n",
        "history = model.fit(trainX, trainY.reshape(trainY.shape[0], trainY.shape[1], 1),\n",
        "                    epochs=40, batch_size=512, validation_split = 0.3,callbacks=[checkpoint], \n",
        "                    verbose=1)"
      ],
      "execution_count": 50,
      "outputs": [
        {
          "output_type": "stream",
          "text": [
            "/usr/local/lib/python3.6/dist-packages/tensorflow/python/framework/indexed_slices.py:434: UserWarning: Converting sparse IndexedSlices to a dense Tensor of unknown shape. This may consume a large amount of memory.\n",
            "  \"Converting sparse IndexedSlices to a dense Tensor of unknown shape. \"\n"
          ],
          "name": "stderr"
        },
        {
          "output_type": "stream",
          "text": [
            "Train on 3430 samples, validate on 1470 samples\n",
            "Epoch 1/40\n",
            "3430/3430 [==============================] - 7s 2ms/step - loss: 5.8465 - val_loss: 3.1407\n",
            "\n",
            "Epoch 00001: val_loss improved from inf to 3.14066, saving model to model1.h5\n",
            "Epoch 2/40\n",
            "3430/3430 [==============================] - 7s 2ms/step - loss: 3.1102 - val_loss: 3.0933\n",
            "\n",
            "Epoch 00002: val_loss improved from 3.14066 to 3.09330, saving model to model1.h5\n",
            "Epoch 3/40\n",
            "3430/3430 [==============================] - 6s 2ms/step - loss: 3.0689 - val_loss: 3.1069\n",
            "\n",
            "Epoch 00003: val_loss did not improve from 3.09330\n",
            "Epoch 4/40\n",
            "3430/3430 [==============================] - 6s 2ms/step - loss: 3.0236 - val_loss: 2.9758\n",
            "\n",
            "Epoch 00004: val_loss improved from 3.09330 to 2.97582, saving model to model1.h5\n",
            "Epoch 5/40\n",
            "3430/3430 [==============================] - 7s 2ms/step - loss: 3.0135 - val_loss: 2.9334\n",
            "\n",
            "Epoch 00005: val_loss improved from 2.97582 to 2.93340, saving model to model1.h5\n",
            "Epoch 6/40\n",
            "3430/3430 [==============================] - 6s 2ms/step - loss: 2.9358 - val_loss: 2.9239\n",
            "\n",
            "Epoch 00006: val_loss improved from 2.93340 to 2.92387, saving model to model1.h5\n",
            "Epoch 7/40\n",
            "3430/3430 [==============================] - 7s 2ms/step - loss: 2.9177 - val_loss: 2.8735\n",
            "\n",
            "Epoch 00007: val_loss improved from 2.92387 to 2.87351, saving model to model1.h5\n",
            "Epoch 8/40\n",
            "3430/3430 [==============================] - 6s 2ms/step - loss: 2.9268 - val_loss: 2.8554\n",
            "\n",
            "Epoch 00008: val_loss improved from 2.87351 to 2.85543, saving model to model1.h5\n",
            "Epoch 9/40\n",
            "3430/3430 [==============================] - 6s 2ms/step - loss: 2.8870 - val_loss: 2.8207\n",
            "\n",
            "Epoch 00009: val_loss improved from 2.85543 to 2.82067, saving model to model1.h5\n",
            "Epoch 10/40\n",
            "3430/3430 [==============================] - 6s 2ms/step - loss: 2.9017 - val_loss: 2.8426\n",
            "\n",
            "Epoch 00010: val_loss did not improve from 2.82067\n",
            "Epoch 11/40\n",
            "3430/3430 [==============================] - 7s 2ms/step - loss: 2.7807 - val_loss: 3.0764\n",
            "\n",
            "Epoch 00011: val_loss did not improve from 2.82067\n",
            "Epoch 12/40\n",
            "3430/3430 [==============================] - 6s 2ms/step - loss: 2.7865 - val_loss: 3.2042\n",
            "\n",
            "Epoch 00012: val_loss did not improve from 2.82067\n",
            "Epoch 13/40\n",
            "3430/3430 [==============================] - 6s 2ms/step - loss: 2.7934 - val_loss: 2.7746\n",
            "\n",
            "Epoch 00013: val_loss improved from 2.82067 to 2.77463, saving model to model1.h5\n",
            "Epoch 14/40\n",
            "3430/3430 [==============================] - 7s 2ms/step - loss: 2.8120 - val_loss: 2.7852\n",
            "\n",
            "Epoch 00014: val_loss did not improve from 2.77463\n",
            "Epoch 15/40\n",
            "3430/3430 [==============================] - 6s 2ms/step - loss: 2.7439 - val_loss: 2.7437\n",
            "\n",
            "Epoch 00015: val_loss improved from 2.77463 to 2.74367, saving model to model1.h5\n",
            "Epoch 16/40\n",
            "3430/3430 [==============================] - 7s 2ms/step - loss: 2.7822 - val_loss: 2.7493\n",
            "\n",
            "Epoch 00016: val_loss did not improve from 2.74367\n",
            "Epoch 17/40\n",
            "3430/3430 [==============================] - 7s 2ms/step - loss: 2.7203 - val_loss: 2.7517\n",
            "\n",
            "Epoch 00017: val_loss did not improve from 2.74367\n",
            "Epoch 18/40\n",
            "3430/3430 [==============================] - 6s 2ms/step - loss: 2.7222 - val_loss: 2.7499\n",
            "\n",
            "Epoch 00018: val_loss did not improve from 2.74367\n",
            "Epoch 19/40\n",
            "3430/3430 [==============================] - 6s 2ms/step - loss: 2.6569 - val_loss: 3.0456\n",
            "\n",
            "Epoch 00019: val_loss did not improve from 2.74367\n",
            "Epoch 20/40\n",
            "3430/3430 [==============================] - 6s 2ms/step - loss: 2.6509 - val_loss: 2.8001\n",
            "\n",
            "Epoch 00020: val_loss did not improve from 2.74367\n",
            "Epoch 21/40\n",
            "3430/3430 [==============================] - 6s 2ms/step - loss: 2.7166 - val_loss: 2.7258\n",
            "\n",
            "Epoch 00021: val_loss improved from 2.74367 to 2.72576, saving model to model1.h5\n",
            "Epoch 22/40\n",
            "3430/3430 [==============================] - 6s 2ms/step - loss: 2.6556 - val_loss: 2.7125\n",
            "\n",
            "Epoch 00022: val_loss improved from 2.72576 to 2.71251, saving model to model1.h5\n",
            "Epoch 23/40\n",
            "3430/3430 [==============================] - 7s 2ms/step - loss: 2.6947 - val_loss: 4.0836\n",
            "\n",
            "Epoch 00023: val_loss did not improve from 2.71251\n",
            "Epoch 24/40\n",
            "3430/3430 [==============================] - 6s 2ms/step - loss: 2.8472 - val_loss: 2.9443\n",
            "\n",
            "Epoch 00024: val_loss did not improve from 2.71251\n",
            "Epoch 25/40\n",
            "3430/3430 [==============================] - 6s 2ms/step - loss: 2.5937 - val_loss: 2.7046\n",
            "\n",
            "Epoch 00025: val_loss improved from 2.71251 to 2.70462, saving model to model1.h5\n",
            "Epoch 26/40\n",
            "3430/3430 [==============================] - 6s 2ms/step - loss: 2.6665 - val_loss: 2.6806\n",
            "\n",
            "Epoch 00026: val_loss improved from 2.70462 to 2.68060, saving model to model1.h5\n",
            "Epoch 27/40\n",
            "3430/3430 [==============================] - 6s 2ms/step - loss: 2.5708 - val_loss: 2.9316\n",
            "\n",
            "Epoch 00027: val_loss did not improve from 2.68060\n",
            "Epoch 28/40\n",
            "3430/3430 [==============================] - 6s 2ms/step - loss: 2.6131 - val_loss: 2.8379\n",
            "\n",
            "Epoch 00028: val_loss did not improve from 2.68060\n",
            "Epoch 29/40\n",
            "3430/3430 [==============================] - 6s 2ms/step - loss: 2.5868 - val_loss: 2.7507\n",
            "\n",
            "Epoch 00029: val_loss did not improve from 2.68060\n",
            "Epoch 30/40\n",
            "3430/3430 [==============================] - 6s 2ms/step - loss: 2.5948 - val_loss: 2.7881\n",
            "\n",
            "Epoch 00030: val_loss did not improve from 2.68060\n",
            "Epoch 31/40\n",
            "3430/3430 [==============================] - 7s 2ms/step - loss: 2.5609 - val_loss: 2.8118\n",
            "\n",
            "Epoch 00031: val_loss did not improve from 2.68060\n",
            "Epoch 32/40\n",
            "3430/3430 [==============================] - 6s 2ms/step - loss: 2.5756 - val_loss: 2.7609\n",
            "\n",
            "Epoch 00032: val_loss did not improve from 2.68060\n",
            "Epoch 33/40\n",
            "3430/3430 [==============================] - 7s 2ms/step - loss: 2.5703 - val_loss: 2.7346\n",
            "\n",
            "Epoch 00033: val_loss did not improve from 2.68060\n",
            "Epoch 34/40\n",
            "3430/3430 [==============================] - 7s 2ms/step - loss: 2.5509 - val_loss: 2.7534\n",
            "\n",
            "Epoch 00034: val_loss did not improve from 2.68060\n",
            "Epoch 35/40\n",
            "3430/3430 [==============================] - 6s 2ms/step - loss: 2.5479 - val_loss: 2.7666\n",
            "\n",
            "Epoch 00035: val_loss did not improve from 2.68060\n",
            "Epoch 36/40\n",
            "3430/3430 [==============================] - 7s 2ms/step - loss: 2.5328 - val_loss: 2.7676\n",
            "\n",
            "Epoch 00036: val_loss did not improve from 2.68060\n",
            "Epoch 37/40\n",
            "3430/3430 [==============================] - 7s 2ms/step - loss: 2.5453 - val_loss: 2.7026\n",
            "\n",
            "Epoch 00037: val_loss did not improve from 2.68060\n",
            "Epoch 38/40\n",
            "3430/3430 [==============================] - 6s 2ms/step - loss: 2.5272 - val_loss: 2.7348\n",
            "\n",
            "Epoch 00038: val_loss did not improve from 2.68060\n",
            "Epoch 39/40\n",
            "3430/3430 [==============================] - 6s 2ms/step - loss: 2.5226 - val_loss: 2.7118\n",
            "\n",
            "Epoch 00039: val_loss did not improve from 2.68060\n",
            "Epoch 40/40\n",
            "3430/3430 [==============================] - 6s 2ms/step - loss: 2.5153 - val_loss: 2.7178\n",
            "\n",
            "Epoch 00040: val_loss did not improve from 2.68060\n"
          ],
          "name": "stdout"
        }
      ]
    },
    {
      "cell_type": "code",
      "metadata": {
        "id": "6jvFOj2xb0C9",
        "colab_type": "code",
        "colab": {
          "base_uri": "https://localhost:8080/",
          "height": 269
        },
        "outputId": "23847fd3-ca2c-4dea-ce9d-a758775a46f0"
      },
      "source": [
        "plt.plot(history.history['loss'])\n",
        "plt.plot(history.history['val_loss'])\n",
        "plt.legend(['train','validation'])\n",
        "plt.show()"
      ],
      "execution_count": 51,
      "outputs": [
        {
          "output_type": "display_data",
          "data": {
            "image/png": "[encoded data removed]",
            "text/plain": [
              "<Figure size 432x288 with 1 Axes>"
            ]
          },
          "metadata": {
            "tags": [],
            "needs_background": "light"
          }
        }
      ]
    },
    {
      "cell_type": "code",
      "metadata": {
        "id": "KLMTQkTdb51y",
        "colab_type": "code",
        "colab": {
          "base_uri": "https://localhost:8080/",
          "height": 73
        },
        "outputId": "a613b787-2239-47e4-80d4-6317adf59c29"
      },
      "source": [
        "model = load_model('model1.h5')\n",
        "preds = model.predict_classes(testX.reshape((testX.shape[0],testX.shape[1])))"
      ],
      "execution_count": 52,
      "outputs": [
        {
          "output_type": "stream",
          "text": [
            "/usr/local/lib/python3.6/dist-packages/tensorflow/python/framework/indexed_slices.py:434: UserWarning: Converting sparse IndexedSlices to a dense Tensor of unknown shape. This may consume a large amount of memory.\n",
            "  \"Converting sparse IndexedSlices to a dense Tensor of unknown shape. \"\n"
          ],
          "name": "stderr"
        }
      ]
    },
    {
      "cell_type": "code",
      "metadata": {
        "id": "fGktY8UOcU0E",
        "colab_type": "code",
        "colab": {}
      },
      "source": [
        "def get_word(n, tokenizer):\n",
        "      for word, index in tokenizer.word_index.items():\n",
        "          if index == n:\n",
        "              return word\n",
        "      return None"
      ],
      "execution_count": 0,
      "outputs": []
    },
    {
      "cell_type": "code",
      "metadata": {
        "id": "R_9Y6UTzcbcT",
        "colab_type": "code",
        "colab": {
          "base_uri": "https://localhost:8080/",
          "height": 217
        },
        "outputId": "366a9582-f276-4131-c09b-8867edad216b"
      },
      "source": [
        "preds_text = []\n",
        "for i in preds[0:10]:\n",
        "       temp = []\n",
        "       for j in range(len(i)):\n",
        "            t = get_word(i[j], frn_tokenizer)\n",
        "            if j > 0:\n",
        "                if (t == get_word(i[j-1], frn_tokenizer)) or (t == None):\n",
        "                     temp.append('')\n",
        "                else:\n",
        "                     temp.append(t)\n",
        "            else:\n",
        "                   if(t == None):\n",
        "                          temp.append('')\n",
        "                   else:\n",
        "                          temp.append(t) \n",
        "\n",
        "       preds_text.append(' '.join(temp))\n",
        "       print(preds_text)"
      ],
      "execution_count": 57,
      "outputs": [
        {
          "output_type": "stream",
          "text": [
            "['je le                                                                    ']\n",
            "['je le                                                                    ', 'je                                                                     ']\n",
            "['je le                                                                    ', 'je                                                                     ', 'je le de                                                                   ']\n",
            "['je le                                                                    ', 'je                                                                     ', 'je le de                                                                   ', 'je le de                                                                   ']\n",
            "['je le                                                                    ', 'je                                                                     ', 'je le de                                                                   ', 'je le de                                                                   ', 'je le de                                                                   ']\n",
            "['je le                                                                    ', 'je                                                                     ', 'je le de                                                                   ', 'je le de                                                                   ', 'je le de                                                                   ', 'je le  de                                                                  ']\n",
            "['je le                                                                    ', 'je                                                                     ', 'je le de                                                                   ', 'je le de                                                                   ', 'je le de                                                                   ', 'je le  de                                                                  ', 'je le de                                                                   ']\n",
            "['je le                                                                    ', 'je                                                                     ', 'je le de                                                                   ', 'je le de                                                                   ', 'je le de                                                                   ', 'je le  de                                                                  ', 'je le de                                                                   ', 'je le  de                                                                  ']\n",
            "['je le                                                                    ', 'je                                                                     ', 'je le de                                                                   ', 'je le de                                                                   ', 'je le de                                                                   ', 'je le  de                                                                  ', 'je le de                                                                   ', 'je le  de                                                                  ', 'je le de                                                                   ']\n",
            "['je le                                                                    ', 'je                                                                     ', 'je le de                                                                   ', 'je le de                                                                   ', 'je le de                                                                   ', 'je le  de                                                                  ', 'je le de                                                                   ', 'je le  de                                                                  ', 'je le de                                                                   ', 'je le de                                                                   ']\n"
          ],
          "name": "stdout"
        }
      ]
    },
    {
      "cell_type": "code",
      "metadata": {
        "id": "Cs51Q9KWckvv",
        "colab_type": "code",
        "colab": {}
      },
      "source": [
        "pred_df = pd.DataFrame({'actual' : test_eng[:], 'predicted' : preds_text})\n",
        "pred_df.sample(15)"
      ],
      "execution_count": 0,
      "outputs": []
    }
  ]
}